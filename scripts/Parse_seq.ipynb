{
 "cells": [
  {
   "cell_type": "code",
   "execution_count": null,
   "metadata": {},
   "outputs": [],
   "source": [
    "# This file is for reading in the input sequences for TF binding sites\n",
    "import pandas as pd \n",
    "import numpy as np \n",
    "from Bio import SeqIO\n",
    "from difflib import SequenceMatcher \n",
    "import re"
   ]
  },
  {
   "cell_type": "code",
   "execution_count": null,
   "metadata": {},
   "outputs": [],
   "source": [
    "pos_seq_file = \"/Users/tiannagrant/Downloads/Final_Project_Skeleton-master/data/rap1-lieb-positives.txt\"\n",
    "neg_seq_file = \"/Users/tiannagrant/Downloads/Final_Project_Skeleton-master/data/yeast-upstream-1k-negative.fa\"\n",
    "test_seq_file = \"/Users/tiannagrant/Downloads/Final_Project_Skeleton-master/data/rap1-lieb-test.txt\""
   ]
  },
  {
   "cell_type": "code",
   "execution_count": null,
   "metadata": {},
   "outputs": [],
   "source": [
    "def read_seqs(pos_seq_file, neg_seq_file, test_seq_file):\n",
    "    #Reading in the training and testing sequences using open\n",
    "    #\n",
    "    pos_seq = open(pos_seq_file).read().splitlines()\n",
    "    test_seq = open(test_seq_file).read().splitlines()\n",
    "    if '.fa' in neg_seq_file:\n",
    "        neg_sequences = [str(fasta.seq) for fasta in SeqIO.parse(open(neg_seq_file),'fasta')]\n",
    "    elif \".txt\" in neg_seq_file: \n",
    "        neg_sequences = open(neg_seq_file).read().splitlines()\n",
    "      \n",
    "        \n",
    "    return pos_seq, neg_sequences, test_seq\n",
    "    \n",
    "        \n",
    "        \n",
    "            \n",
    "        "
   ]
  },
  {
   "cell_type": "code",
   "execution_count": null,
   "metadata": {},
   "outputs": [],
   "source": [
    "\n",
    "pos_seq, neg_sequences, test_seq, = read_seqs(pos_seq_file, neg_seq_file, test_seq_file)\n",
    "\n"
   ]
  },
  {
   "cell_type": "code",
   "execution_count": null,
   "metadata": {},
   "outputs": [],
   "source": [
    "print(pos_seq)"
   ]
  },
  {
   "cell_type": "markdown",
   "metadata": {},
   "source": [
    "Data preprocessing process approach - change code markdown "
   ]
  },
  {
   "cell_type": "code",
   "execution_count": null,
   "metadata": {},
   "outputs": [],
   "source": [
    "\n",
    "#I decided to remove negative sequences that have postive sub-sequences\n",
    "#Input is negative sequences and postive sequences, setting a string length of pos_seq \n",
    "\n",
    "def trim_neg_sequences(pos_seqs, neg_seqs, bp=17, ratio = 4):\n",
    "    \n",
    "    #Drop negative sequences that are a sub-sequence of the positive sequences\n",
    "    #INPUT: positive sequences and negative sequences, length of bases to keep, and ratio for\n",
    "    #number of negative sequences to positive sequences\n",
    "    #OUTPUT: negative sequences that are not similar to positive sequences and \n",
    "    #are the same number of base pairs as positive sequences\n",
    "    \n",
    "    for pos in pos_seqs:\n",
    "        for neg in neg_seqs:\n",
    "            if re.search(pos, neg):\n",
    "                neg_seqs.remove(neg)\n",
    "        # downsampling of negative sequences\n",
    "    neg_keep = int(len(pos_seqs)*ratio)\n",
    "    neg_seqs_sub = np.random.choice(neg_seqs, size=neg_keep, replace=False)\n",
    "\n",
    "    short_neg = []\n",
    "    for neg in neg_seqs_sub:\n",
    "        rand_start = np.random.randint(0, len(neg)-bp+1)\n",
    "        short_neg.append(neg[rand_start:rand_start+bp])\n",
    "    return short_neg"
   ]
  },
  {
   "cell_type": "code",
   "execution_count": null,
   "metadata": {},
   "outputs": [],
   "source": [
    "trim = trim_neg_sequences(pos_seq, neg_sequences, bp=17, ratio=4)\n",
    "#trim"
   ]
  },
  {
   "cell_type": "code",
   "execution_count": null,
   "metadata": {},
   "outputs": [],
   "source": [
    "#print(trim)\n",
    "#one hot negative\n",
    "def one_hot_neg(trim):\n",
    "    one_hot_neg = []\n",
    "    for neg in trim:\n",
    "        one_hot_neg.append(encode_DNA(neg).reshape(68,1))\n",
    "    return one_hot_neg\n",
    "\n",
    "#One hot positive\n",
    "\n",
    "def one_hot_pos(pos_seq):\n",
    "    one_hot_pos = []\n",
    "    for pos in pos_seq:\n",
    "        #Calling Encode_DNA function \n",
    "        one_hot_pos.append(encode_DNA(pos).reshape(68,1))\n",
    "    return one_hot_pos\n",
    "    "
   ]
  },
  {
   "cell_type": "code",
   "execution_count": null,
   "metadata": {},
   "outputs": [],
   "source": [
    "#Check shape:\n",
    "one_hot_neg_list = np.array(one_hot_neg(trim))\n",
    "#one_hot_neg_list\n",
    "one_hot_neg_list.shape"
   ]
  },
  {
   "cell_type": "code",
   "execution_count": null,
   "metadata": {},
   "outputs": [],
   "source": [
    "one_hot_pos_list = np.array(one_hot_pos(pos_seq))\n",
    "one_hot_pos(pos_seq)[0].shape"
   ]
  },
  {
   "cell_type": "code",
   "execution_count": null,
   "metadata": {},
   "outputs": [],
   "source": [
    "def encode_DNA(seq):\n",
    "    \"\"\"\n",
    "    Convert DNA sequence to binary values for input into neural net\n",
    "    INPUT: DNA sequence\n",
    "    OUTPUT: binary encoding of sequence\n",
    "    \"\"\"\n",
    "    seq2bin_dict = {'A':[1,0,0,0], 'C':[0,1,0,0], 'G':[0,0,1,0], 'T':[0,0,0,1]}\n",
    "    return np.array(sum([seq2bin_dict.get(nuc) for nuc in seq], []))"
   ]
  },
  {
   "cell_type": "markdown",
   "metadata": {},
   "source": [
    "below I am spilting data into training and test set"
   ]
  },
  {
   "cell_type": "code",
   "execution_count": null,
   "metadata": {},
   "outputs": [],
   "source": [
    "def split_data(pos_seqs, neg_seqs, split= 0.5):\n",
    "    \"\"\"\n",
    "    Split data with known outcomes into training and testing data\n",
    "    INPUT: positive examples, negative examples, and percent to keep for training\n",
    "    OUTPUT: positive and negative training sets and\n",
    "    positive and negative testing sets\n",
    "    \"\"\"\n",
    "   \n",
    "    pos_size, neg_size = int(len(pos_seqs)*split), int(len(neg_seqs)*split)\n",
    "    train_pos = np.random.choice(range(0,pos_size), size=pos_size , replace=False)\n",
    "    print('train.pos',train_pos.shape)\n",
    "    train_neg = np.random.choice(range(0,neg_size), size=pos_size,  replace=False)\n",
    "    print(pos_seqs[train_pos].shape)\n",
    "    #68 dimensions\n",
    "    #set(all possible indexs) - set indexs \n",
    "    test_pos =  set(range(0,len(pos_seqs)))- set(train_pos)\n",
    "    #below is the original\n",
    "    #test_pos = set(pos_seqs[68,1])-set(pos_seqs[train_pos[0,68]])\n",
    "    #test_neg = set(neg_seqs)-set(train_seqs[train_neg])\n",
    "    test_neg = set(range(0,len(neg_seqs)))- set(train_neg)\n",
    "    return pos_seqs[train_pos], neg_seqs[train_neg],\n",
    "#I don't think below is necessary \n",
    "def combine_and_shuffle(pos, neg):\n",
    "    combined = np.concatenate((pos, neg))\n",
    "    expected = np.append(np.array([[1]]*len(pos)), np.array([[0]]*len(neg)))\n",
    "    shuf_combined, shuf_expected = shuffle(combined, expected)\n",
    "    return shuf_combined, np.reshape(shuf_expected, (len(shuf_expected),1))"
   ]
  },
  {
   "cell_type": "code",
   "execution_count": null,
   "metadata": {
    "scrolled": true
   },
   "outputs": [],
   "source": [
    "split_data(one_hot_pos_list,one_hot_neg_list)\n",
    "\n",
    "#print('train_pos',train_pos.shape)\n",
    "combine = combine_and_shuffle(split_data"
   ]
  },
  {
   "cell_type": "code",
   "execution_count": null,
   "metadata": {},
   "outputs": [],
   "source": []
  }
 ],
 "metadata": {
  "kernelspec": {
   "display_name": "Python 3",
   "language": "python",
   "name": "python3"
  },
  "language_info": {
   "codemirror_mode": {
    "name": "ipython",
    "version": 3
   },
   "file_extension": ".py",
   "mimetype": "text/x-python",
   "name": "python",
   "nbconvert_exporter": "python",
   "pygments_lexer": "ipython3",
   "version": "3.7.4"
  }
 },
 "nbformat": 4,
 "nbformat_minor": 4
}
